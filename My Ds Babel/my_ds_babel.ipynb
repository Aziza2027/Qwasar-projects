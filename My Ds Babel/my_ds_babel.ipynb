{
 "cells": [
  {
   "cell_type": "code",
   "metadata": {
    "cell_id": "fb3f41fc1c3b41578db9ceb44220f286",
    "tags": [],
    "deepnote_to_be_reexecuted": false,
    "source_hash": "b6ccf026",
    "execution_start": 1653075821187,
    "execution_millis": 2,
    "deepnote_cell_type": "code",
    "deepnote_cell_height": 99
   },
   "source": "import sqlite3\nimport pandas as pd",
   "execution_count": null,
   "outputs": []
  },
  {
   "cell_type": "code",
   "metadata": {
    "cell_id": "58761d89f81b45ac8e5266f48e0ed293",
    "tags": [],
    "deepnote_to_be_reexecuted": false,
    "source_hash": "e462ede4",
    "execution_start": 1653076068563,
    "execution_millis": 1,
    "deepnote_cell_type": "code",
    "deepnote_cell_height": 1539
   },
   "source": "class Transform:\n\n    def __init__(self, db_name, csv_file):\n        self.conn = sqlite3.connect(db_name)\n        self.execute = self.conn.cursor().execute\n        self.csv = csv_file\n\n    def create_tab(self):\n        self.execute('''CREATE TABLE VOLCANO(\n            volcano_name varchar(100),\n            country varchar(100),\n            type varchar(100),\n            latitude REAL,\n            longitude REAL,\n            elevation INT\n        );''')\n\n    def read_csv(self):\n        with open(self.csv) as f:\n            return f.readlines()[1:]\n\n    def to_csv(self, data):\n\n        cols = ','.join(desc[0] for desc in data.description)\n        data = '\\n'.join(','.join(map(str, row)) for row in data.fetchall())\n        data = cols +'\\n'+ data\n\n        with open(self.csv, 'w') as f:\n            f.write(data)\n\n\n    def insert_data(self, data):\n        data = self.read_csv()\n\n        for row in data:\n            row = row.split(',')\n            if len(row) != 6:\n                continue\n            row[-3:-1] = map(float, row[-3:-1])\n            row[-1] = int(row[-1])\n\n            self.execute('''INSERT INTO VOLCANO VALUES(?,?,?,?,?,?);''', row)\n\n    def csv2db(self):\n        self.create_tab()\n        self.insert_data(data)\n        db.conn.commit()\n\n    \n    def db2csv(self):\n        data = self.execute('''select * from fault_lines''')\n        self.to_csv(data)\n\n    @classmethod\n    def trans_db(cls,db_name, csv_file):\n        obj = cls(db_name, csv_file)\n        data = obj.execute('''select * from fault_lines''')\n        obj.to_csv(data)\n        return obj\n\n    @classmethod\n    def trans_csv(cls,db_name, csv_file):\n        obj = cls(db_name, csv_file)\n        obj.create_tab()\n        obj.insert_data(data)\n        obj.conn.commit()\n        return obj\n\n\n\n# csv = 'files/list_volcano.csv'\n# db = 'list_volcano.db'\n\n# db = Transform(db_name=db, csv_file=csv)\n\n# db.csv2db()\n\ncsv = 'all_fault_line.csv'\ndb = 'all_fault_line.db'\n\ndb = Transform.trans_db(db, csv)\n",
   "execution_count": null,
   "outputs": []
  },
  {
   "cell_type": "code",
   "metadata": {
    "cell_id": "7d95ff26301648a0a26c4a522a720210",
    "tags": [],
    "deepnote_to_be_reexecuted": false,
    "source_hash": "af845c23",
    "execution_start": 1653076336199,
    "execution_millis": 33,
    "owner_user_id": "f980b683-a8ec-434c-bd24-5ac038c8991a",
    "deepnote_cell_type": "code",
    "deepnote_cell_height": 708,
    "deepnote_output_heights": [
     611
    ]
   },
   "source": "db.execute('''select * from {0}'''.format('fault_lines')).fetchall()",
   "execution_count": null,
   "outputs": [
    {
     "output_type": "execute_result",
     "execution_count": 15,
     "data": {
      "text/plain": "[('Aedipsos-Kandili Fault',\n  60,\n  'North Euboean Gulf - Greece',\n  'Normal',\n  'Active',\n  None),\n ('Alaska-Aleutian Megathrust',\n  3600,\n  'Kamchatka - Russia to Gulf of Alaska',\n  'Subduction zone',\n  'Active',\n  '1964 Prince William Sound (M9.2) - 1965 Rat Islands (M8.7) - 1957 Andreanof Islands (M8.6)'),\n ('Alpine Fault',\n  1400,\n  'South Island - New Zealand',\n  'Dextral strike-slip',\n  'Active',\n  '2009 Fiordland (M7.8)'),\n ('Altyn Tagh Fault',\n  1200,\n  'Tibetan Plateau/Tarim Basin',\n  'Sinistral strike-slip',\n  'Active',\n  None),\n ('Amfilochia Fault',\n  60,\n  'Western Greece',\n  'Sinistral strike-slip',\n  'Active',\n  None),\n ('Amorgos Fault',\n  '>100',\n  'Greece - South Aegean Sea',\n  'Normal',\n  'Active',\n  '1956 Amorgos (M7.4)[1]'),\n ('Arkitsa – Agios Konstantinos Fault zone',\n  25,\n  'Central Greece',\n  'Normal',\n  None,\n  None),\n ('Aspy Fault', 40, 'Nova Scotia', 'Strike-slip', None, None),\n ('Atacama Fault',\n  800,\n  'Atacama desert - Chile',\n  'Strike-slip',\n  'Active',\n  None),\n ('Atalanti Fault',\n  50,\n  'Central Greece',\n  'Normal Fault',\n  'Active',\n  '1894 Atalanti (M6.4 - M6.9)'),\n ('Atotsugawa Fault',\n  'Japan',\n  'Dextral strike-slip',\n  'Active',\n  '1858 Hietsu earthquake (M~7)',\n  None),\n ('Awatere Fault',\n  'South Island - New Zealand',\n  'Dextral strike-slip',\n  'Active',\n  '1848 Marlborough (M7.5)',\n  None),\n ('Azores–Gibraltar Transform Fault',\n  2250,\n  'Azores to Strait of Gibraltar',\n  'Dextral strike-slip',\n  'Active',\n  '1755 Lisbon earthquake (est. M7.5–8.0) - 1969 Cape St. Vincent (M7.9) - 1941 Gloria Fault (M8.0)'),\n ('Baikal Rift Zone', 'Lake Baikal', 'Rift zone', 'Active', None, None),\n ('Ballenas Fault',\n  'Gulf of California - United States',\n  'Transform',\n  'Active',\n  None,\n  None),\n ('Brothers Fault Zone', 'Oregon - United States', None, None, None, None),\n ('Cascadia megathrust',\n  1000,\n  'West coast of United States – Oregon & Washington Vancouver Island Canada',\n  'Subduction zone',\n  'Active',\n  '1700 Cascadia (M9.0)'),\n ('Central African Shear Zone',\n  4000,\n  'Central Africa',\n  'Rift zone',\n  None,\n  None),\n ('Cerro Prieto Fault',\n  'Gulf of California - United States',\n  'Transform',\n  'Active',\n  None,\n  None),\n ('Chixoy-Polochic Fault',\n  'Guatemala',\n  'Transform',\n  'Active',\n  '1816 Guatemala (M7.5)[2]',\n  None),\n ('Christchurch Fault',\n  'South Island - New Zealand',\n  'Active',\n  None,\n  None,\n  None),\n ('Chile subduction megathrust',\n  3000,\n  'West coast of Chile',\n  'Subduction zone',\n  'Active',\n  '1960 Valdivia (M9.5); 1906 Valparaiso (M8.2); 2010 Maule (M8.8); 2014 Iquique (M8.2)'),\n ('Clarence Fault',\n  'South Island - New Zealand',\n  'Dextral strike-slip',\n  'Active',\n  None,\n  None),\n ('Clarendon-Linden fault system',\n  'New York - United States',\n  None,\n  None,\n  None,\n  None),\n ('Clayton-Marsh Creek-Greenville Fault',\n  'California - United States',\n  None,\n  None,\n  None,\n  None),\n ('Cochabamba Fault Zone',\n  'Bolivia',\n  'Sinistral strike-slip',\n  None,\n  None,\n  None),\n ('Corinth Rift',\n  110,\n  'Greece',\n  'Normal Fault',\n  'Active',\n  '1995 Aegion (M6.2); 1981 Alkyonides; 1861 Helike; 373 BC Helike'),\n ('Craven Fault System',\n  'Pennines',\n  'Normal Fault',\n  'Carboniferous',\n  None,\n  None),\n ('Darling Fault',\n  '950-1500',\n  'Western Australia - Australia',\n  'Proterozoic',\n  None,\n  None),\n ('Dead Sea Transform',\n  'Sinai Peninsula',\n  'Sinistral transform',\n  'Active',\n  '1138 Aleppo earthquake',\n  None),\n ('Delfi Fault Zone',\n  25,\n  'Central Greece',\n  'Normal to strike-slip',\n  None,\n  None),\n ('Denali Fault',\n  'British Columbia - Canada to Alaska - United States',\n  'Dextral strike-slip',\n  'Active',\n  '2002 Denali (M7.9)',\n  None),\n ('East Anatolian Fault',\n  'Turkey',\n  'Strike-slip',\n  'Active',\n  '2003 Bingöl (M6.4) - 2010 Elâzığ (M6.1)',\n  None),\n ('Eastern Tennessee Seismic Zone',\n  'Alabama to Virginia - United States',\n  'Active',\n  '2003 Alabama (M4.6)',\n  None,\n  None),\n ('Elsinore Fault Zone',\n  180,\n  'California - United States',\n  'Dextral strike-slip',\n  'Active',\n  None),\n ('Eltanin Fault System',\n  'Southern Ocean',\n  'Dextral transform',\n  'Active',\n  '1600 km offset',\n  None),\n ('Enriquillo-Plantain Garden fault zone',\n  'Hispaniola',\n  'Sinistral strike-slip',\n  'Active',\n  '2010 Haiti (M7.0)',\n  None),\n ('Glarus thrust', 'Switzerland', 'Thrust fault', 'Cenozoic', None, None),\n ('Great Glen Fault',\n  'Scotland',\n  'Strike-slip',\n  'Silurian to Cenozoic',\n  None,\n  None),\n ('Great Lakes Tectonic Zone (GLTZ)',\n  '1 -400',\n  'Great Lakes - United States',\n  'Tectonic zone',\n  'Neoarchean',\n  None),\n ('Great Sumatran Fault',\n  'Sumatra - Indonesia',\n  'Strike-slip',\n  'Active',\n  '1943 Alahan Panjang (M7.2) - 1994 Liwa (M7.0)',\n  None),\n ('Greendale Fault',\n  'South Island - New Zealand',\n  'Dextral strike-slip',\n  'Active',\n  '2010 Canterbury (M7.1)',\n  None),\n ('Guaymas Fault',\n  325,\n  'California - United States',\n  'Dextral strike-slip',\n  'Active',\n  None),\n ('Gulf of California Rift Zone',\n  1300,\n  'Mexico',\n  'Rift zone',\n  'Active',\n  '2010 Mexicali (M7.2)'),\n ('Hayward Fault Zone',\n  119,\n  'San Francisco Bay - California - United States',\n  'Strike-slip',\n  'Active',\n  '1868 Hayward (M6.3–6.7)'),\n ('Hellenic Arc',\n  1000,\n  'East Mediterranean Sea',\n  'Thrust/Strike-slip',\n  '365 AD (M8.5+); 1303 AD (~8)',\n  None),\n ('Honey Lake Fault Zone',\n  'Nevada and California - United States',\n  'Dextral strike-slip',\n  'Active',\n  None,\n  None),\n ('Hope Fault',\n  'South Island - New Zealand',\n  'Dextral strike-slip',\n  'Active',\n  '1888 North Canterbury (M7.3)',\n  None),\n ('Humboldt Fault Zone',\n  'Nebraska to Kansas - United States',\n  'Normal fault',\n  'Active',\n  '1867 Manhattan - Kansas (M5.1)',\n  None),\n ('Imperial Fault Zone',\n  'California - United States',\n  'Dextral strike-slip',\n  'Active',\n  '1940 El Centro (M6.9) - 1979 Imperial Valley (M6.4)',\n  None),\n ('Ierapetra Fault', 40, 'Crete', 'Normal Fault', None, None),\n ('Independence Valley fault system',\n  'Nevada - United States',\n  'Normal fault',\n  'Active',\n  '2008 Wells earthquake (M6.0)',\n  None),\n ('Kameni-Kolumbo Fault zone',\n  '>60',\n  'Greece - South Aegean Sea',\n  'Dextral (?) Strike-slip',\n  None,\n  None),\n ('Kandi Fault Zone', 'West Africa', None, None, None, None),\n ('Karsdorf Fault', 'Germany', None, None, None, None),\n ('Kego Fault', 'Japan', 'Active', '2005 Fukuoka (M7.0)', None, None),\n ('Kefalonia Transform Fault',\n  180,\n  'Greece - Ionian Sea',\n  'Dextral strike Slip',\n  'Active',\n  '1953 Kephalonia (M7.2)'),\n ('Kermadec-Tonga Subduction Zone',\n  'New Zealand',\n  'Subduction zone',\n  'Active',\n  None,\n  None),\n ('Kern Canyon Fault',\n  'Sierra Nevada - California - United States',\n  'Thrust fault',\n  None,\n  None,\n  None),\n ('Kunlun fault',\n  1500,\n  'Tibet',\n  'Sinistral strike-slip',\n  'Active',\n  '2001 Kunlun (M7.8)'),\n ('Laguna Salada Fault',\n  '64–80',\n  'United States and Mexico',\n  'Strike-slip',\n  'Active',\n  '2010 Mexicali M7.2)'),\n ('Laptev Sea Rift', 'Arctic Ocean', 'Rift zone', None, None, None),\n ('Liquiñe-Ofqui Fault', 1000, 'Andes - Chile', 'Strike-slip', None, None),\n ('Long Point–Eureka Heights Fault System',\n  'Texas - United States',\n  'Normal fault',\n  None,\n  None,\n  None),\n ('Longmen Shan Fault',\n  'Sichuan - China',\n  'Thrust fault',\n  'Active',\n  '2008 Sichuan (M8.0)',\n  None),\n ('Lusatian Fault', 'Germany', 'Thrust fault', None, None, None),\n ('Macquarie Fault Zone',\n  'South Pacific Ocean',\n  'Strike-slip',\n  'Active',\n  '2008 Macquarie Island earthquake (M7.1)',\n  None),\n ('Magallanes–Fagnano Fault', 'South America', 'Transform', None, None, None),\n ('Main Uralian Fault (MUF)', '2000+', 'Urals', 'Subduction zone', None, None),\n ('Marianna Fault', 'Arkansas - United States', None, None, None, None),\n ('Marikina Valley Fault System',\n  'Philippines',\n  'Dextral strike-slip',\n  'active',\n  None,\n  None),\n ('Marlborough Fault System',\n  'South Island - New Zealand',\n  'Dextral strike-slip',\n  'Active',\n  '1843 Wanganui (M~7.5)',\n  None),\n ('Meers Fault', 'Oklahoma', 'Oblique slipe', 'Active', 'Holocene', None),\n ('Mendocino Fracture Zone',\n  'California - United States',\n  'Transform',\n  'Active',\n  None,\n  None),\n ('Moab Fault', 'Utah - United States', 'Normal fault', 'Active', None, None),\n ('Mocha Fracture Zone',\n  'Mocha Island - Chile',\n  'Transform',\n  'Active',\n  None,\n  None),\n ('Motagua Fault',\n  'Guatemala',\n  'Transform',\n  'Active',\n  '1717 - 1773 - 1902 - 1976 - 1980 - 2009',\n  None),\n ('Mygdonia Graben',\n  'North Greece',\n  'Normal to strike-slip',\n  'Active',\n  '1978 Thessaloniki (M6.4)',\n  None),\n ('Neodani Fault', 'Japan', 'Active', '1891 Mino–Owari (M8.0)', None, None),\n ('New Madrid Fault Zone',\n  'Missouri - United States',\n  'Normal fault',\n  'Active',\n  '1811–1812 three (M7-8)',\n  None),\n ('Nootka Fault',\n  'British Columbia - Canada',\n  'Transform',\n  'Active',\n  None,\n  None),\n ('North Aegean Trough',\n  '>250',\n  'North Aegean Sea - Greece - Turkey',\n  'Dextral strike-slip',\n  'Active',\n  '1912 (M7.6); 1982 (M6.7); 2014 (M6.9)'),\n ('North Anatolian Fault',\n  'Turkey',\n  'Dextral strike-slip',\n  'Active',\n  '1939 Erzincan (M7.8) - 1912 Ganos (M7.4) - 1999 Izmit (M7.4) - 1999 Düzce (M7.2)',\n  None),\n ('North Ikaria Fault',\n  '>80',\n  'Central Aegean Sea - Greece',\n  'Dextral strike slip',\n  None,\n  None),\n ('North Island Fault System',\n  500,\n  'North Island - New Zealand',\n  'Dextral strike slip',\n  'Active',\n  None),\n ('Palu-Koro Fault',\n  500,\n  'Palu - Sigi - Donggala - Indonesia',\n  'Sinistral strike-slip',\n  'Active',\n  '2005 Bora - Sigi earthquake (M6.2) - 2018 Sulawesi earthquake (M7.5)'),\n ('Periadriatic Seam',\n  1000,\n  'Alps - Europe',\n  'Dextral strike-slip',\n  None,\n  None),\n ('Pichilemu Fault',\n  40,\n  'Chile',\n  'Active',\n  \"2010 Pichilemu (Libertador O'Higgins) (M6.9)\",\n  None),\n ('Pliny Trench',\n  300,\n  'Eastern Mediterranean Sea - Hellenic Trench',\n  'Sinistral strike-slip',\n  None,\n  None),\n ('Port Hills Fault',\n  'South Island - New Zealand',\n  'Active',\n  '2011 Christchurch (M6.3)',\n  None,\n  None),\n ('Pyramid Lake Fault Zone',\n  'Nevada - United States',\n  'Dextral strike-slip',\n  None,\n  None,\n  None),\n ('Ramapo Fault',\n  300,\n  'New York - New Jersey - Pennsylvania - United States',\n  'Normal fault',\n  'Triassic to Early Jurassic',\n  None),\n ('Raymond Fault', 'California - United States', None, None, None, None),\n ('Red Sea Rift', 'Red Sea', 'Rift zone', None, None, None),\n ('Reigolil-Pirihueico Fault', 'Andes', None, None, None, None),\n ('Rhine Rift Valley',\n  'Germany and France',\n  'Rift zone',\n  'Active',\n  '1356 Basel (M6 to 7)',\n  None),\n ('Rio Grande Rift',\n  'Rio Grande Valley - United States and Mexico',\n  'Rift zone',\n  None,\n  None,\n  None),\n ('Salzach-Ennstal-Mariazell-Puchberg Fault System (SEMP)',\n  '400[3]',\n  'Austria',\n  'Sinistral strike-slip',\n  None,\n  None),\n ('San Andreas Fault System (Banning fault - Mission Creek fault - South Pass fault - San Jacinto fault - Elsinore fault)',\n  1300,\n  'California - United States',\n  'Dextral strike-slip',\n  'Active',\n  '1906 San Francisco (M7.7 to 8.25) - 1989 Loma Prieta (M6.9)'),\n ('San Ramón Fault', 'Chile', 'Thrust fault', None, None, None),\n ('Sawtooth Fault', 'Idaho - United States', 'Normal fault', None, None, None),\n ('Seattle Fault',\n  'Washington - United States',\n  'Thrust fault',\n  'Active',\n  None,\n  None),\n ('Septentrional-Orient fault zone',\n  'Caribbean',\n  'Sinistral strike-slip',\n  'Active',\n  '1842 Cap-Haïtien (M8.1)',\n  None),\n ('Sierra Nevada Fault',\n  'California - United States',\n  'Normal fault',\n  'Active',\n  '1872 Lone Pine (M7.4–8.3)',\n  None),\n ('Skyros-Edremit Fault zone',\n  '>150',\n  'Aegean Sea - Greece - Turkey',\n  'Dextral Strike-slip',\n  'Active',\n  '1967 - 1981'),\n ('Sobral Fault', 'Brazil', 'Strike-slip', None, None, None),\n ('Sorong fault',\n  'Oceania',\n  'Sinistral strike-slip',\n  'Active',\n  '2009 Kepulauan Talaud (M7.2)',\n  None),\n ('Sparta Fault',\n  65,\n  'Peloponnese - Greece',\n  'Normal fault',\n  'Active',\n  '464 BC Sparta (M7.2)'),\n ('Spili Fault', 20, 'Crete - Greece', 'Normal fault', 'Active', None),\n ('Strabo Trench',\n  300,\n  'Eastern Mediterranean Sea - Hellenic Trench',\n  'Sinistral strike-slip',\n  'Active',\n  None),\n ('Sunda subduction megathrust',\n  5000,\n  'South East Asia',\n  'Subduction zone',\n  'Active',\n  '2004 Banda Aceh (M9.1) - 2005 Nias (M8.6) - 2007 Bengkulu (M8.4)'),\n ('Tacoma Fault',\n  56,\n  'Washington - United States',\n  'Thrust fault',\n  'Active',\n  None),\n ('Tatsuda Fault', 'Japan', 'Active', '1889 Kumamoto (M6.3)', None, None),\n ('Tintina Fault',\n  'British Columbia - Canadato Alaska - United States',\n  'Strike-slip',\n  'Late Cretaceous to Oligocene',\n  None,\n  None),\n ('Ulakhan Fault',\n  'Siberia to Aleutian Trench',\n  'Sinistral strike-slip',\n  'Active',\n  None,\n  None),\n ('Virginia Seismic Zone',\n  'Virginia - United States',\n  'Active',\n  '2011 Virginia (M5.8)',\n  None,\n  None),\n ('Wabash Valley Seismic Zone',\n  'Illinois - Indiana - United States',\n  'Normal fault',\n  'Active',\n  '2008 Illinois (M5.4)',\n  None),\n ('Wasatch Fault',\n  'Utah - United States',\n  'Normal fault',\n  'Active',\n  None,\n  None),\n ('Wellington Fault',\n  'North Island - New Zealand',\n  'Dextral strike-slip',\n  'Active',\n  None,\n  None),\n ('Wairarapa Fault',\n  'North Island - New Zealand',\n  'Dextral strike-slip',\n  'Active',\n  '1855 Wairarapa (M8.2)',\n  None),\n ('Wairau Fault',\n  'South Island - New Zealand',\n  'Dextral strike-slip',\n  'Active',\n  None,\n  None),\n ('Wilzetta Fault',\n  89,\n  'Oklahoma - United States',\n  'Strike-slip',\n  'Active',\n  '2011 Oklahoma (M5.6)')]"
     },
     "metadata": {}
    }
   ]
  },
  {
   "cell_type": "code",
   "metadata": {
    "cell_id": "f5b2e2581d814fc69cc5f9661433becf",
    "tags": [],
    "deepnote_to_be_reexecuted": true,
    "source_hash": "67b422b0",
    "execution_start": 1652987364726,
    "execution_millis": 39,
    "deepnote_cell_type": "code",
    "deepnote_cell_height": 219,
    "deepnote_output_heights": [
     122
    ]
   },
   "source": "db.execute('''select * from fault_lines''').description",
   "execution_count": null,
   "outputs": [
    {
     "output_type": "execute_result",
     "execution_count": 130,
     "data": {
      "text/plain": "(('fault_name', None, None, None, None, None, None),\n ('length', None, None, None, None, None, None),\n ('location', None, None, None, None, None, None),\n ('sense_of_movement', None, None, None, None, None, None),\n ('time_of_movement', None, None, None, None, None, None),\n ('associated_earthquakes', None, None, None, None, None, None))"
     },
     "metadata": {}
    }
   ]
  },
  {
   "cell_type": "code",
   "metadata": {
    "cell_id": "a6e4313d94c64c3eadfaa9685a3a6e7d",
    "tags": [],
    "deepnote_to_be_reexecuted": true,
    "source_hash": "9f7cf147",
    "execution_start": 1652988380080,
    "execution_millis": 546,
    "deepnote_cell_type": "code",
    "deepnote_cell_height": 118,
    "deepnote_output_heights": [
     21
    ]
   },
   "source": "db",
   "execution_count": null,
   "outputs": [
    {
     "output_type": "execute_result",
     "execution_count": 137,
     "data": {
      "text/plain": "<__main__.Transform at 0x7fc2f5487c90>"
     },
     "metadata": {}
    }
   ]
  },
  {
   "cell_type": "code",
   "metadata": {
    "cell_id": "6ddf07b7aa9a4c7fbc2ad13666b0b40a",
    "tags": [],
    "deepnote_to_be_reexecuted": true,
    "source_hash": "8d3d2f69",
    "execution_start": 1652987271555,
    "execution_millis": 1,
    "deepnote_cell_type": "code",
    "deepnote_cell_height": 144.1875
   },
   "source": "names = list(map(lambda x: x[0], db.conn.cursor().description))",
   "execution_count": null,
   "outputs": [
    {
     "output_type": "error",
     "ename": "TypeError",
     "evalue": "'NoneType' object is not iterable",
     "traceback": [
      "\u001b[0;31m---------------------------------------------------------------------------\u001b[0m",
      "\u001b[0;31mTypeError\u001b[0m                                 Traceback (most recent call last)",
      "\u001b[0;32m<ipython-input-128-be453316ca3e>\u001b[0m in \u001b[0;36m<module>\u001b[0;34m\u001b[0m\n\u001b[0;32m----> 1\u001b[0;31m \u001b[0mnames\u001b[0m \u001b[0;34m=\u001b[0m \u001b[0mlist\u001b[0m\u001b[0;34m(\u001b[0m\u001b[0mmap\u001b[0m\u001b[0;34m(\u001b[0m\u001b[0;32mlambda\u001b[0m \u001b[0mx\u001b[0m\u001b[0;34m:\u001b[0m \u001b[0mx\u001b[0m\u001b[0;34m[\u001b[0m\u001b[0;36m0\u001b[0m\u001b[0;34m]\u001b[0m\u001b[0;34m,\u001b[0m \u001b[0mdb\u001b[0m\u001b[0;34m.\u001b[0m\u001b[0mconn\u001b[0m\u001b[0;34m.\u001b[0m\u001b[0mcursor\u001b[0m\u001b[0;34m(\u001b[0m\u001b[0;34m)\u001b[0m\u001b[0;34m.\u001b[0m\u001b[0mdescription\u001b[0m\u001b[0;34m)\u001b[0m\u001b[0;34m)\u001b[0m\u001b[0;34m\u001b[0m\u001b[0;34m\u001b[0m\u001b[0m\n\u001b[0m",
      "\u001b[0;31mTypeError\u001b[0m: 'NoneType' object is not iterable"
     ]
    }
   ]
  },
  {
   "cell_type": "code",
   "metadata": {
    "cell_id": "8b7e866731e84af2b2bcb4827bef3a83",
    "tags": [],
    "deepnote_to_be_reexecuted": true,
    "source_hash": "b623e53d",
    "execution_start": 1652986853618,
    "execution_millis": 7,
    "deepnote_cell_type": "code",
    "deepnote_cell_height": 81
   },
   "source": "",
   "execution_count": null,
   "outputs": []
  },
  {
   "cell_type": "code",
   "metadata": {
    "cell_id": "61e01a4035d84406bd7935ba141fba20",
    "tags": [],
    "deepnote_to_be_reexecuted": true,
    "source_hash": "b623e53d",
    "execution_start": 1652986859177,
    "execution_millis": 0,
    "deepnote_cell_type": "code",
    "deepnote_cell_height": 81
   },
   "source": "",
   "execution_count": null,
   "outputs": []
  },
  {
   "cell_type": "code",
   "metadata": {
    "cell_id": "c62ddd1743474a468f00426814d82346",
    "tags": [],
    "deepnote_to_be_reexecuted": true,
    "source_hash": "e1ddbb4c",
    "deepnote_cell_type": "code",
    "deepnote_cell_height": 81
   },
   "source": "db.execute('''select * from volcano;''').fetchall()",
   "execution_count": null,
   "outputs": []
  },
  {
   "cell_type": "code",
   "metadata": {
    "cell_id": "109f8477092e427bbe9a7913a1092af5",
    "tags": [],
    "deepnote_to_be_reexecuted": true,
    "source_hash": "82df362f",
    "execution_start": 1652985270892,
    "execution_millis": 104,
    "deepnote_cell_type": "code",
    "deepnote_cell_height": 413
   },
   "source": "df = pd.read_csv(csv)\ndf.head()",
   "execution_count": null,
   "outputs": [
    {
     "output_type": "execute_result",
     "execution_count": 102,
     "data": {
      "application/vnd.deepnote.dataframe.v3+json": {
       "column_count": 6,
       "row_count": 5,
       "columns": [
        {
         "name": "Volcano Name",
         "dtype": "object",
         "stats": {
          "unique_count": 5,
          "nan_count": 0,
          "categories": [
           {
            "name": "Abu",
            "count": 1
           },
           {
            "name": "Acamarachi",
            "count": 1
           },
           {
            "name": "3 others",
            "count": 3
           }
          ]
         }
        },
        {
         "name": "Country",
         "dtype": "object",
         "stats": {
          "unique_count": 5,
          "nan_count": 0,
          "categories": [
           {
            "name": "Japan",
            "count": 1
           },
           {
            "name": "Chile",
            "count": 1
           },
           {
            "name": "3 others",
            "count": 3
           }
          ]
         }
        },
        {
         "name": "Type",
         "dtype": "object",
         "stats": {
          "unique_count": 3,
          "nan_count": 0,
          "categories": [
           {
            "name": "Stratovolcano",
            "count": 3
           },
           {
            "name": "Shield",
            "count": 1
           },
           {
            "name": "Caldera",
            "count": 1
           }
          ]
         }
        },
        {
         "name": "Latitude (dd)",
         "dtype": "float64",
         "stats": {
          "unique_count": 5,
          "nan_count": 0,
          "min": "-23.3",
          "max": "46.21",
          "histogram": [
           {
            "bin_start": -23.3,
            "bin_end": -16.349,
            "count": 1
           },
           {
            "bin_start": -16.349,
            "bin_end": -9.398,
            "count": 0
           },
           {
            "bin_start": -9.398,
            "bin_end": -2.446999999999999,
            "count": 0
           },
           {
            "bin_start": -2.446999999999999,
            "bin_end": 4.504000000000001,
            "count": 0
           },
           {
            "bin_start": 4.504000000000001,
            "bin_end": 11.455000000000002,
            "count": 0
           },
           {
            "bin_start": 11.455000000000002,
            "bin_end": 18.406000000000002,
            "count": 1
           },
           {
            "bin_start": 18.406000000000002,
            "bin_end": 25.357000000000003,
            "count": 0
           },
           {
            "bin_start": 25.357000000000003,
            "bin_end": 32.30800000000001,
            "count": 0
           },
           {
            "bin_start": 32.30800000000001,
            "bin_end": 39.259,
            "count": 2
           },
           {
            "bin_start": 39.259,
            "bin_end": 46.21,
            "count": 1
           }
          ]
         }
        },
        {
         "name": "Longitude (dd)",
         "dtype": "float64",
         "stats": {
          "unique_count": 5,
          "nan_count": 0,
          "min": "-121.49",
          "max": "131.6",
          "histogram": [
           {
            "bin_start": -121.49,
            "bin_end": -96.181,
            "count": 1
           },
           {
            "bin_start": -96.181,
            "bin_end": -70.872,
            "count": 1
           },
           {
            "bin_start": -70.872,
            "bin_end": -45.563,
            "count": 1
           },
           {
            "bin_start": -45.563,
            "bin_end": -20.254000000000005,
            "count": 0
           },
           {
            "bin_start": -20.254000000000005,
            "bin_end": 5.054999999999993,
            "count": 0
           },
           {
            "bin_start": 5.054999999999993,
            "bin_end": 30.36399999999999,
            "count": 0
           },
           {
            "bin_start": 30.36399999999999,
            "bin_end": 55.67299999999999,
            "count": 1
           },
           {
            "bin_start": 55.67299999999999,
            "bin_end": 80.98199999999999,
            "count": 0
           },
           {
            "bin_start": 80.98199999999999,
            "bin_end": 106.29099999999998,
            "count": 0
           },
           {
            "bin_start": 106.29099999999998,
            "bin_end": 131.6,
            "count": 1
           }
          ]
         }
        },
        {
         "name": "Elevation (m)",
         "dtype": "float64",
         "stats": {
          "unique_count": 5,
          "nan_count": 0,
          "min": "641.0",
          "max": "6046.0",
          "histogram": [
           {
            "bin_start": 641,
            "bin_end": 1181.5,
            "count": 1
           },
           {
            "bin_start": 1181.5,
            "bin_end": 1722,
            "count": 1
           },
           {
            "bin_start": 1722,
            "bin_end": 2262.5,
            "count": 0
           },
           {
            "bin_start": 2262.5,
            "bin_end": 2803,
            "count": 0
           },
           {
            "bin_start": 2803,
            "bin_end": 3343.5,
            "count": 0
           },
           {
            "bin_start": 3343.5,
            "bin_end": 3884,
            "count": 1
           },
           {
            "bin_start": 3884,
            "bin_end": 4424.5,
            "count": 1
           },
           {
            "bin_start": 4424.5,
            "bin_end": 4965,
            "count": 0
           },
           {
            "bin_start": 4965,
            "bin_end": 5505.5,
            "count": 0
           },
           {
            "bin_start": 5505.5,
            "bin_end": 6046,
            "count": 1
           }
          ]
         }
        },
        {
         "name": "_deepnote_index_column",
         "dtype": "int64"
        }
       ],
       "rows": [
        {
         "Volcano Name": "Abu",
         "Country": "Japan",
         "Type": "Shield",
         "Latitude (dd)": 34.5,
         "Longitude (dd)": 131.6,
         "Elevation (m)": 641,
         "_deepnote_index_column": 0
        },
        {
         "Volcano Name": "Acamarachi",
         "Country": "Chile",
         "Type": "Stratovolcano",
         "Latitude (dd)": -23.3,
         "Longitude (dd)": -67.62,
         "Elevation (m)": 6046,
         "_deepnote_index_column": 1
        },
        {
         "Volcano Name": "Acatenango",
         "Country": "Guatemala",
         "Type": "Stratovolcano",
         "Latitude (dd)": 14.5,
         "Longitude (dd)": -90.88,
         "Elevation (m)": 3976,
         "_deepnote_index_column": 2
        },
        {
         "Volcano Name": "Acigöl-Nevsehir",
         "Country": "Turkey",
         "Type": "Caldera",
         "Latitude (dd)": 38.57,
         "Longitude (dd)": 34.52,
         "Elevation (m)": 1689,
         "_deepnote_index_column": 3
        },
        {
         "Volcano Name": "Adams",
         "Country": "USA",
         "Type": "Stratovolcano",
         "Latitude (dd)": 46.21,
         "Longitude (dd)": -121.49,
         "Elevation (m)": 3742,
         "_deepnote_index_column": 4
        }
       ]
      },
      "text/plain": "      Volcano Name    Country           Type  Latitude (dd)  Longitude (dd)  \\\n0              Abu      Japan         Shield          34.50          131.60   \n1       Acamarachi      Chile  Stratovolcano         -23.30          -67.62   \n2       Acatenango  Guatemala  Stratovolcano          14.50          -90.88   \n3  Acigöl-Nevsehir     Turkey        Caldera          38.57           34.52   \n4            Adams        USA  Stratovolcano          46.21         -121.49   \n\n   Elevation (m)  \n0          641.0  \n1         6046.0  \n2         3976.0  \n3         1689.0  \n4         3742.0  ",
      "text/html": "<div>\n<style scoped>\n    .dataframe tbody tr th:only-of-type {\n        vertical-align: middle;\n    }\n\n    .dataframe tbody tr th {\n        vertical-align: top;\n    }\n\n    .dataframe thead th {\n        text-align: right;\n    }\n</style>\n<table border=\"1\" class=\"dataframe\">\n  <thead>\n    <tr style=\"text-align: right;\">\n      <th></th>\n      <th>Volcano Name</th>\n      <th>Country</th>\n      <th>Type</th>\n      <th>Latitude (dd)</th>\n      <th>Longitude (dd)</th>\n      <th>Elevation (m)</th>\n    </tr>\n  </thead>\n  <tbody>\n    <tr>\n      <th>0</th>\n      <td>Abu</td>\n      <td>Japan</td>\n      <td>Shield</td>\n      <td>34.50</td>\n      <td>131.60</td>\n      <td>641.0</td>\n    </tr>\n    <tr>\n      <th>1</th>\n      <td>Acamarachi</td>\n      <td>Chile</td>\n      <td>Stratovolcano</td>\n      <td>-23.30</td>\n      <td>-67.62</td>\n      <td>6046.0</td>\n    </tr>\n    <tr>\n      <th>2</th>\n      <td>Acatenango</td>\n      <td>Guatemala</td>\n      <td>Stratovolcano</td>\n      <td>14.50</td>\n      <td>-90.88</td>\n      <td>3976.0</td>\n    </tr>\n    <tr>\n      <th>3</th>\n      <td>Acigöl-Nevsehir</td>\n      <td>Turkey</td>\n      <td>Caldera</td>\n      <td>38.57</td>\n      <td>34.52</td>\n      <td>1689.0</td>\n    </tr>\n    <tr>\n      <th>4</th>\n      <td>Adams</td>\n      <td>USA</td>\n      <td>Stratovolcano</td>\n      <td>46.21</td>\n      <td>-121.49</td>\n      <td>3742.0</td>\n    </tr>\n  </tbody>\n</table>\n</div>"
     },
     "metadata": {}
    }
   ]
  },
  {
   "cell_type": "code",
   "metadata": {
    "cell_id": "bf4d74214ade40cda7da7573a27ede7b",
    "tags": [],
    "deepnote_to_be_reexecuted": true,
    "source_hash": "de1e323c",
    "execution_start": 1652985097654,
    "execution_millis": 19,
    "deepnote_cell_type": "code",
    "deepnote_cell_height": 348.03125
   },
   "source": "df.info()",
   "execution_count": null,
   "outputs": [
    {
     "name": "stdout",
     "text": "<class 'pandas.core.frame.DataFrame'>\nRangeIndex: 434 entries, 0 to 433\nData columns (total 6 columns):\n #   Column          Non-Null Count  Dtype  \n---  ------          --------------  -----  \n 0   Volcano Name    434 non-null    object \n 1   Country         431 non-null    object \n 2   Type            431 non-null    object \n 3   Latitude (dd)   429 non-null    float64\n 4   Longitude (dd)  426 non-null    float64\n 5   Elevation (m)   416 non-null    float64\ndtypes: float64(3), object(3)\nmemory usage: 20.5+ KB\n",
     "output_type": "stream"
    }
   ]
  },
  {
   "cell_type": "code",
   "metadata": {
    "cell_id": "c189786004d046ffab93b154177d1546",
    "tags": [],
    "deepnote_to_be_reexecuted": true,
    "source_hash": "d794f466",
    "execution_start": 1652985145887,
    "execution_millis": 21,
    "deepnote_cell_type": "code",
    "deepnote_cell_height": 234,
    "deepnote_output_heights": [
     137
    ]
   },
   "source": "df.isna().sum()",
   "execution_count": null,
   "outputs": [
    {
     "output_type": "execute_result",
     "execution_count": 99,
     "data": {
      "text/plain": "Volcano Name       0\nCountry            3\nType               3\nLatitude (dd)      5\nLongitude (dd)     8\nElevation (m)     18\ndtype: int64"
     },
     "metadata": {}
    }
   ]
  },
  {
   "cell_type": "code",
   "metadata": {
    "cell_id": "fe6dd9ff5554421c91cc10eceba47993",
    "tags": [],
    "deepnote_to_be_reexecuted": true,
    "source_hash": "3aab37ba",
    "deepnote_cell_type": "code",
    "deepnote_cell_height": 1431
   },
   "source": "import sqlite3\n\nclass Transform:\n\n    def __init__(self, db_name, csv_file):\n        self.conn = sqlite3.connect(db_name)\n        self.execute = self.conn.cursor().execute\n        self.csv = csv_file\n\n    def create_tab(self, table_name):\n        self.execute('''CREATE TABLE ?(\n            volcano_name varchar(100),\n            country varchar(100),\n            type varchar(100),\n            latitude REAL,\n            longitude REAL,\n            elevation INT\n        );''', [table_name])\n\n    def read_csv(self):\n        with open(self.csv) as f:\n            return f.readlines()[1:]\n\n    def insert_data(self,table_name):\n        data = self.read_csv()\n\n        for row in data:\n            row = row.split(',')\n            if len(row) != 6:\n                continue\n            row[-3:-1] = map(float, row[-3:-1])\n            row[-1] = int(row[-1])\n\n            self.execute('''INSERT INTO ? VALUES(?,?,?,?,?,?);''', [table_name, *row])\n\n        self.conn.commit()\n\n    def convert_to_csv(self, table_name):\n\n        data = self.execute('''select * from ?''', [table_name])\n        \n        cols = ','.join(desc[0] for desc in data.description)\n        data = '\\n'.join(','.join(map(str, row)) for row in data.fetchall())\n        data = cols +'\\n'+ data\n\n        with open(self.csv, 'w') as f:\n            f.write(data)\n\n    def convert_to_db(self, table_name):\n        '''Converts csv file to database\n        '''\n        self.create_tab(table_name)\n        self.insert_data(table_name)\n\n    @classmethod\n    def db2csv(cls,db_name):\n\n        csv_file = db_name[:-3] + '.csv'\n        return cls(db_name, csv_file).convert_to_csv(table_name = 'fault_lines')\n\n    @classmethod\n    def csv2db(cls,csv_file):\n        db_name = csv_file[:-4] + '.db'\n        return cls(db_name, csv_file).convert_to_db(table_name = 'volcanos')\n\n\n\ncsv = 'inp/list_volcano.csv'\ndb = 'inp/all_fault_line.db'\n\nif __name__ == '__main__':\n    # convert database to csv\n    Transform.db2csv(db)\n\n    # convert csv to database\n    # db = Transform.csv2db(db, csv)",
   "execution_count": null,
   "outputs": []
  },
  {
   "cell_type": "markdown",
   "source": "<a style='text-decoration:none;line-height:16px;display:flex;color:#5B5B62;padding:10px;justify-content:end;' href='https://deepnote.com?utm_source=created-in-deepnote-cell&projectId=4f766aa9-9cee-41a6-b97f-32c3f95ed653' target=\"_blank\">\n<img alt='Created in deepnote.com' style='display:inline;max-height:16px;margin:0px;margin-right:7.5px;' src='data:image/svg+xml;base64,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' > </img>\nCreated in <span style='font-weight:600;margin-left:4px;'>Deepnote</span></a>",
   "metadata": {
    "tags": [],
    "created_in_deepnote_cell": true,
    "deepnote_cell_type": "markdown"
   }
  }
 ],
 "nbformat": 4,
 "nbformat_minor": 2,
 "metadata": {
  "orig_nbformat": 2,
  "deepnote": {},
  "deepnote_notebook_id": "6f443680-caff-4abf-971a-ae39ad8b4c80",
  "deepnote_execution_queue": []
 }
}